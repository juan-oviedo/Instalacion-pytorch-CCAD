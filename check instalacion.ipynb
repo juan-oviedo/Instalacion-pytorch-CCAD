{
 "cells": [
  {
   "cell_type": "code",
   "execution_count": 1,
   "id": "2781dbc8-ac7d-47e6-ba16-0c86a1ee9475",
   "metadata": {},
   "outputs": [
    {
     "name": "stdout",
     "output_type": "stream",
     "text": [
      "number of GPUs: 1\n"
     ]
    }
   ],
   "source": [
    "import torch\n",
    "print(f\"number of GPUs: {torch.cuda.device_count()}\")\n",
    "print(torch.__version__)"
   ]
  }
 ],
 "metadata": {
  "kernelspec": {
   "display_name": "Python 3 (ipykernel)",
   "language": "python",
   "name": "python3"
  },
  "language_info": {
   "codemirror_mode": {
    "name": "ipython",
    "version": 3
   },
   "file_extension": ".py",
   "mimetype": "text/x-python",
   "name": "python",
   "nbconvert_exporter": "python",
   "pygments_lexer": "ipython3",
   "version": "3.12.7"
  }
 },
 "nbformat": 4,
 "nbformat_minor": 5
}
